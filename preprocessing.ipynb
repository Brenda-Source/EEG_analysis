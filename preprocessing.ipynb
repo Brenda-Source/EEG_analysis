{
 "cells": [
  {
   "cell_type": "code",
   "execution_count": 6,
   "metadata": {},
   "outputs": [],
   "source": [
    "import mne\n",
    "import numpy as np\n",
    "import pandas as pd\n",
    "import matplotlib\n",
    "import seaborn as sns\n"
   ]
  },
  {
   "cell_type": "code",
   "execution_count": 1,
   "metadata": {},
   "outputs": [
    {
     "name": "stdout",
     "output_type": "stream",
     "text": [
      "Extracting EDF parameters from C:\\Users\\Mabel Ife\\OneDrive - Danmarks Tekniske Universitet\\Dokumenter\\Master in AI\\Final Thesis\\Data\\subj_07_070223_task.bdf...\n",
      "BDF file detected\n",
      "Setting channel info structure...\n",
      "Creating raw.info structure...\n",
      "Extracting EDF parameters from C:\\Users\\Mabel Ife\\OneDrive - Danmarks Tekniske Universitet\\Dokumenter\\Master in AI\\Final Thesis\\Data\\subj_07_070223_task.bdf...\n",
      "BDF file detected\n",
      "Setting channel info structure...\n",
      "Creating raw.info structure...\n",
      "Reading 0 ... 4517887  =      0.000 ...  2206.000 secs...\n",
      "<Info | 8 non-empty values\n",
      " bads: []\n",
      " ch_names: A1, A2, AF3, F1, F3, F5, F7, FT7, FC5, FC3, FC1, C1, C3, C5, T7, ...\n",
      " chs: 64 EEG, 1 Stimulus\n",
      " custom_ref_applied: False\n",
      " highpass: 0.0 Hz\n",
      " lowpass: 417.0 Hz\n",
      " meas_date: 2023-02-07 14:46:06 UTC\n",
      " nchan: 65\n",
      " projs: []\n",
      " sfreq: 2048.0 Hz\n",
      " subject_info: 1 item (dict)\n",
      ">\n",
      "Filtering raw data in 1 contiguous segment\n",
      "Setting up high-pass filter at 1 Hz\n",
      "\n",
      "FIR filter parameters\n",
      "---------------------\n",
      "Designing a one-pass, zero-phase, non-causal highpass filter:\n",
      "- Windowed time-domain design (firwin) method\n",
      "- Hamming window with 0.0194 passband ripple and 53 dB stopband attenuation\n",
      "- Lower passband edge: 1.00\n",
      "- Lower transition bandwidth: 1.00 Hz (-6 dB cutoff frequency: 0.50 Hz)\n",
      "- Filter length: 6759 samples (3.300 s)\n",
      "\n"
     ]
    },
    {
     "name": "stderr",
     "output_type": "stream",
     "text": [
      "[Parallel(n_jobs=1)]: Using backend SequentialBackend with 1 concurrent workers.\n",
      "[Parallel(n_jobs=1)]: Done   1 out of   1 | elapsed:    0.1s remaining:    0.0s\n",
      "[Parallel(n_jobs=1)]: Done   2 out of   2 | elapsed:    0.4s remaining:    0.0s\n",
      "[Parallel(n_jobs=1)]: Done   3 out of   3 | elapsed:    0.6s remaining:    0.0s\n",
      "[Parallel(n_jobs=1)]: Done   4 out of   4 | elapsed:    0.8s remaining:    0.0s\n",
      "[Parallel(n_jobs=1)]: Done  64 out of  64 | elapsed:   15.2s finished\n"
     ]
    },
    {
     "name": "stdout",
     "output_type": "stream",
     "text": [
      "Filtering raw data in 1 contiguous segment\n",
      "Setting up low-pass filter at 40 Hz\n",
      "\n",
      "FIR filter parameters\n",
      "---------------------\n",
      "Designing a one-pass, zero-phase, non-causal lowpass filter:\n",
      "- Windowed time-domain design (firwin) method\n",
      "- Hamming window with 0.0194 passband ripple and 53 dB stopband attenuation\n",
      "- Upper passband edge: 40.00 Hz\n",
      "- Upper transition bandwidth: 10.00 Hz (-6 dB cutoff frequency: 45.00 Hz)\n",
      "- Filter length: 677 samples (0.331 s)\n",
      "\n"
     ]
    },
    {
     "name": "stderr",
     "output_type": "stream",
     "text": [
      "[Parallel(n_jobs=1)]: Using backend SequentialBackend with 1 concurrent workers.\n",
      "[Parallel(n_jobs=1)]: Done   1 out of   1 | elapsed:    0.1s remaining:    0.0s\n",
      "[Parallel(n_jobs=1)]: Done   2 out of   2 | elapsed:    0.3s remaining:    0.0s\n",
      "[Parallel(n_jobs=1)]: Done   3 out of   3 | elapsed:    0.5s remaining:    0.0s\n",
      "[Parallel(n_jobs=1)]: Done   4 out of   4 | elapsed:    0.7s remaining:    0.0s\n",
      "[Parallel(n_jobs=1)]: Done  64 out of  64 | elapsed:   13.2s finished\n"
     ]
    }
   ],
   "source": [
    "import mne\n",
    "import numpy as np\n",
    "import pandas as pd\n",
    "import matplotlib\n",
    "import seaborn as sns\n",
    "\n",
    "%matplotlib qt\n",
    "\n",
    "def read_file(path):\n",
    "    r = mne.io.read_raw_bdf(path, preload=False)\n",
    "    \n",
    "    # Define signal info\n",
    "    n_time_samps = r.n_times\n",
    "    time_secs = r.times\n",
    "    ch_names = r.ch_names\n",
    "    n_chan = len(ch_names)  # note: there is no raw.n_channels attribute\n",
    "    \n",
    "    \n",
    "    channels_to_keep = [\"A1\", \"A2\", \"A3\", \"A4\", \"A5\", \"A6\", \"A7\", \"A8\", \"A9\", \"A10\",\n",
    "            \"A11\", \"A12\", \"A13\", \"A14\", \"A15\", \"A16\", \"A17\", \"A18\", \"A19\", \"A20\",\n",
    "            \"A21\", \"A22\", \"A23\", \"A24\", \"A25\", \"A26\", \"A27\", \"A28\", \"A29\", \"A30\",\n",
    "            \"A31\", \"A32\", \"B1\", \"B2\", \"B3\", \"B4\", \"B5\", \"B6\", \"B7\", \"B8\", \"B9\", \"B10\",\n",
    "            \"B11\", \"B12\", \"B13\", \"B14\", \"B15\", \"B16\", \"B17\", \"B18\", \"B19\", \"B20\",\n",
    "            \"B21\", \"B22\", \"B23\", \"B24\", \"B25\", \"B26\", \"B27\", \"B28\", \"B29\", \"B30\", \"B31\", \"B32\"]\n",
    "\n",
    "    channels_to_exclude_str = [ch for ch in r.ch_names if ch not in channels_to_keep + ['Status']]\n",
    "    \n",
    "    \n",
    "    raw = mne.io.read_raw_bdf(path, exclude = channels_to_exclude_str ,  preload=True)\n",
    "    \n",
    "    list_chan_name = { 'A3': 'AF3',\n",
    "     'A7': 'F7', 'A6': 'F5','A5': 'F3', 'A4': 'F1',\n",
    "     'A8': 'FT7', 'A9': 'FC5','A10': 'FC3', 'A11': 'FC1',\n",
    "     'A15': 'T7', 'A14': 'C5','A13': 'C3', 'A12': 'C1',\n",
    "     'A16': 'TP7', 'A17': 'CP5','A18': 'CP3', 'A19': 'CP1', 'A32': 'CPz',\n",
    "     'A24': 'P9', 'A23': 'P7','A22': 'P5', 'A21': 'P3', 'A20': 'P1','A31': 'Pz',\n",
    "     'A25': 'PO7', 'A26': 'PO3','A30': 'POz', \n",
    "     'A27': 'O1',   'A29': 'Oz', \n",
    "     'A28': 'Iz', \n",
    "     'B1': 'Fpz','B2': 'Fp2',\n",
    "     'B5': 'AFz', 'B4': 'AF4','B3': 'AF8',\n",
    "     'B6': 'Fz', 'B7': 'F2','B8': 'F4', 'B9': 'F6','B10': 'F8',\n",
    "     'B15': 'FCz', 'B14': 'FC2','B13': 'FC4', 'B12': 'FC6','B11': 'FT8',\n",
    "     'B16': 'Cz', 'B17': 'C2','B18': 'C4', 'B19': 'C6','B20': 'T8',\n",
    "     'B24': 'CP2', 'B23': 'CP4','B22': 'CP6', 'B21': 'TP8',\n",
    "     'B25': 'P2', 'B26': 'P4','B27': 'P6', 'B28': 'P8','B29': 'P10',\n",
    "     'B31': 'PO4', 'B30': 'PO8',\n",
    "     'B32': 'O2'\n",
    "     }\n",
    "\n",
    "    _ = raw.rename_channels(list_chan_name)\n",
    "    print(raw.info)\n",
    "    \n",
    "    return raw\n",
    "\n",
    "    \n",
    "def highlow_pass(raw):\n",
    "    # We cut off at one Hertz, because we will be looking at the alpha and beta frequency bands that start\n",
    "# from the 8-10 Hz. Apply high-pass filter\n",
    "    raw.filter(l_freq=1, h_freq=None, fir_design='firwin', filter_length='auto',\n",
    "           l_trans_bandwidth='auto', h_trans_bandwidth='auto', method='fir',\n",
    "           phase='zero', fir_window='hamming', verbose=True)\n",
    "\n",
    "# Apply low-pass filter if needed\n",
    "    raw.filter(l_freq=None, h_freq=40, fir_design='firwin', filter_length='auto',\n",
    "           l_trans_bandwidth='auto', h_trans_bandwidth='auto', method='fir',\n",
    "           phase='zero', fir_window='hamming', verbose=True)\n",
    "\n",
    "    return raw \n",
    "    \n",
    "    \n",
    "def plotsignal(signal, channels, pick_min, pick_max):\n",
    "    \n",
    "    ch_names = signal.ch_names\n",
    "    \n",
    "    \n",
    "    picks = ch_names[pick_min:pick_max]  # Pick the first 20 EEG channels\n",
    "    signal.plot(n_channels=channels, picks=picks, events = False, title='EEG Data for the Channels')\n",
    "    \n",
    "    \n",
    "    \n",
    "def rename_events(raw):\n",
    "    # Find events and drop unnecessary   \n",
    "    events_ID = mne.find_events(raw, stim_channel=\"Status\")\n",
    "    events = mne.pick_events(events_ID, exclude = [3,5,40,42,62])\n",
    "\n",
    "    # Define epoch parameters\n",
    "    tmin = -2  \n",
    "    tmax = 3   \n",
    "\n",
    "    # Epoch  signal\n",
    "    epochs = mne.Epochs(raw, events, tmin=tmin, tmax=tmax, baseline = None)\n",
    "    \n",
    "    unsuccessful_event_index = None # For sanity check\n",
    "\n",
    "\n",
    "    for i, event in enumerate(epochs.events[:-1]):  # Iterate over all events except the last one\n",
    "        if event[2] == 10:\n",
    "            next_event = epochs.events[i+1]\n",
    "            while next_event[2] == 61:\n",
    "                next_event[2] = 610\n",
    "                i += 1  # Increment i to move to the next event\n",
    "                if i < len(epochs.events) - 1:\n",
    "                    next_event = epochs.events[i+1]\n",
    "                else:\n",
    "                    break  # Break the loop if we reached the end of events\n",
    "                \n",
    "                \n",
    "        elif event[2] == 20:\n",
    "            next_event = epochs.events[i+1]\n",
    "            while next_event[2] == 61:\n",
    "                next_event[2] = 620\n",
    "                i += 1\n",
    "                if i < len(epochs.events) - 1:\n",
    "                    next_event = epochs.events[i+1]\n",
    "                else:\n",
    "                    break\n",
    "                \n",
    "                \n",
    "        elif event[2] == 30:\n",
    "            next_event = epochs.events[i+1]\n",
    "            while next_event[2] == 61:\n",
    "                next_event[2] = 630\n",
    "                i += 1\n",
    "                if i < len(epochs.events) - 1:\n",
    "                    next_event = epochs.events[i+1]\n",
    "                else:\n",
    "                    break\n",
    "        else:\n",
    "            unsuccessful_event_index = i\n",
    "\n",
    "    # Check if any events with trigger value 61 are still present\n",
    "    if any(event[2] == 61 for event in epochs.events):\n",
    "        print(\"Renaming was unsuccessful :(\")\n",
    "        if unsuccessful_event_index is not None:\n",
    "            print(\"Problematic event index:\", unsuccessful_event_index)\n",
    "            print(\"Problematic event details:\", epochs.events[unsuccessful_event_index])\n",
    "            \n",
    "    #raw.plot(\n",
    "    #events=events,\n",
    "    #start=5,\n",
    "    #duration=10,\n",
    "    #color=\"gray\",\n",
    "    #event_color={41: \"r\", 10: \"g\", 20: \"b\", 30: \"m\"}, title = \"Raw filtered signal with 4 conditions highlighted\")\n",
    "    \n",
    "    #  Might introduce edge artifacts for each epoch.\n",
    "    epochs.load_data()\n",
    "    epochs_rs = epochs.resample(sfreq=256)\n",
    "\n",
    "    # Print events \n",
    "    # # Assuming you have your epochs object named epochs\n",
    "    # Get the event IDs present in your epochs\n",
    "    event_ids = epochs_rs.events[:, -1]\n",
    "\n",
    "    # Print unique event IDs\n",
    "    unique_event_ids = set(event_ids)\n",
    "    print(\"Unique Event IDs:\", unique_event_ids)\n",
    "\n",
    "    # Print counts of each event ID\n",
    "    for event_id in unique_event_ids:\n",
    "        count = (event_ids == event_id).sum()\n",
    "        print(\"Event ID:\", event_id, \"Count:\", count)\n",
    "        \n",
    "    return epochs\n",
    "    \n",
    "\n",
    "\n",
    "sample_fname = \"C:/Users/Mabel Ife/OneDrive - Danmarks Tekniske Universitet/Dokumenter/Master in AI/Final Thesis/Data/subj_07_070223_task.bdf\"\n",
    "raw_filt = highlow_pass(read_file(sample_fname))    \n",
    "\n",
    "# Epoch and events   \n",
    "\n",
    "\n",
    "\n",
    "    \n",
    "    \n",
    "    \n",
    "    \n",
    "    \n",
    "    \n",
    "    \n",
    "    \n",
    "\n",
    "    \n",
    "        \n",
    "    \n",
    "\n",
    "# some examples of raw.info"
   ]
  },
  {
   "cell_type": "code",
   "execution_count": 2,
   "metadata": {},
   "outputs": [
    {
     "name": "stdout",
     "output_type": "stream",
     "text": [
      "Trigger channel Status has a non-zero initial value of {initial_value} (consider using initial_event=True to detect this event)\n",
      "Removing orphaned offset at the beginning of the file.\n",
      "4237 events found on stim channel Status\n",
      "Event IDs: [ 3  5 10 20 30 40 41 42 61 62]\n",
      "Not setting metadata\n",
      "1707 matching events found\n",
      "No baseline correction applied\n",
      "0 projection items activated\n",
      "Using data from preloaded Raw for 1707 events and 10241 original time points ...\n",
      "0 bad epochs dropped\n",
      "Unique Event IDs: {610, 41, 10, 620, 20, 630, 30}\n",
      "Event ID: 610 Count: 450\n",
      "Event ID: 41 Count: 540\n",
      "Event ID: 10 Count: 30\n",
      "Event ID: 620 Count: 301\n",
      "Event ID: 20 Count: 30\n",
      "Event ID: 630 Count: 326\n",
      "Event ID: 30 Count: 30\n"
     ]
    }
   ],
   "source": [
    "# create epochs, renames events, resample to 256HZ\n",
    "epochs_rs = rename_events(raw_filt)"
   ]
  },
  {
   "cell_type": "code",
   "execution_count": 3,
   "metadata": {},
   "outputs": [
    {
     "name": "stdout",
     "output_type": "stream",
     "text": [
      "Setting channel interpolation method to {'eeg': 'MNE'}.\n",
      "Interpolating bad channels.\n",
      "    Automatic origin fit: head of radius 95.6 mm\n",
      "    Computing dot products for 63 EEG channels...\n",
      "    Computing cross products for 63 → 64 EEG channels...\n",
      "    Preparing the mapping matrix...\n",
      "    Truncating at 63/63 components and regularizing with α=1.0e-01\n"
     ]
    },
    {
     "name": "stderr",
     "output_type": "stream",
     "text": [
      "[Parallel(n_jobs=1)]: Using backend SequentialBackend with 1 concurrent workers.\n",
      "[Parallel(n_jobs=1)]: Done   1 out of   1 | elapsed:    0.0s remaining:    0.0s\n",
      "[Parallel(n_jobs=1)]: Done   1 out of   1 | elapsed:    0.0s finished\n"
     ]
    }
   ],
   "source": [
    "# Copy epochs to drop_channel as it is no reversible \n",
    "ep_ds = epochs_rs.copy()\n",
    "\n",
    "# Highlight bad channels # we keep the flat one as it will be fixed after averaging \n",
    "_ = ep_ds.info[\"bads\"].extend(['TP8'])  \n",
    "\n",
    "# Set montage and interpolate bads \n",
    "ep_ds.set_montage('standard_1020')\n",
    "ep_interp_mne = ep_ds.interpolate_bads(\n",
    "    reset_bads=False, method='MNE', verbose=True\n",
    ")\n",
    "\n",
    "\n",
    "#ep_interp_mne.plot(picks=(\"grad\", \"eeg\"))\n"
   ]
  },
  {
   "cell_type": "code",
   "execution_count": 19,
   "metadata": {},
   "outputs": [
    {
     "name": "stdout",
     "output_type": "stream",
     "text": [
      "Overwriting existing file.\n"
     ]
    },
    {
     "name": "stdout",
     "output_type": "stream",
     "text": [
      "Overwriting existing file.\n"
     ]
    }
   ],
   "source": [
    "# use the average of all channels as reference\n",
    "#ep_avg_ref = ep_interp_mne.copy().set_eeg_reference(ref_channels=\"average\")\n",
    "\n",
    "\n",
    "# Participant ID code\n",
    "p_id = 'sub-007'\n",
    "data_dir = 'C:/Users/Mabel Ife/OneDrive - Danmarks Tekniske Universitet/Dokumenter/Master in AI/Final Thesis/Data/epochs/'\n",
    "\n",
    "#ica_motor_comp.save(data_dir + p_id + '-ica.fif', \n",
    "#        overwrite=True)\n",
    "\n",
    "\n",
    "ep_avg_ref.save(data_dir + p_id + '-epo.fif', overwrite=True)\n"
   ]
  },
  {
   "cell_type": "markdown",
   "metadata": {},
   "source": [
    "### Getting muscle components from ICA  \n",
    "\n"
   ]
  },
  {
   "cell_type": "code",
   "execution_count": 6,
   "metadata": {},
   "outputs": [
    {
     "name": "stdout",
     "output_type": "stream",
     "text": [
      "Fitting ICA to data using 63 channels (please be patient, this may take a while)\n",
      "Selecting by number: 30 components\n",
      "Fitting ICA took 259.1s.\n"
     ]
    },
    {
     "data": {
      "text/html": [
       "<table class=\"table table-hover table-striped table-sm table-responsive small\">\n",
       "    <tr>\n",
       "        <th>Method</th>\n",
       "        <td>fastica</td>\n",
       "    </tr>\n",
       "    <tr>\n",
       "        <th>Fit parameters</th>\n",
       "        <td>algorithm=parallel<br />fun=logcosh<br />fun_args=None<br />max_iter=1000<br /></td>\n",
       "    </tr>\n",
       "    <tr>\n",
       "        <th>Fit</th>\n",
       "        <td>56 iterations on epochs (2184960 samples)</td>\n",
       "    </tr>\n",
       "    \n",
       "    <tr>\n",
       "        <th>ICA components</th>\n",
       "        <td>30</td>\n",
       "    </tr>\n",
       "    <tr>\n",
       "        <th>Available PCA components</th>\n",
       "        <td>63</td>\n",
       "    </tr>\n",
       "    <tr>\n",
       "        <th>Channel types</th>\n",
       "        <td>eeg</td>\n",
       "    </tr>\n",
       "    <tr>\n",
       "        <th>ICA components marked for exclusion</th>\n",
       "        <td>&mdash;</td>\n",
       "    </tr>\n",
       "    \n",
       "</table>"
      ],
      "text/plain": [
       "<ICA | epochs decomposition, method: fastica (fit in 56 iterations on 2184960 samples), 30 ICA components (63 PCA components available), channel types: eeg, no sources marked for exclusion>"
      ]
     },
     "execution_count": 6,
     "metadata": {},
     "output_type": "execute_result"
    }
   ],
   "source": [
    "# Automated algorithm to find muscle components\n",
    "# Run ICA\n",
    "\n",
    "ica = mne.preprocessing.ICA(\n",
    "    n_components=30, method=\"fastica\", max_iter=\"auto\", random_state=97)\n",
    "ica.fit(ep_avg_ref)\n",
    "\n",
    "\n"
   ]
  },
  {
   "cell_type": "code",
   "execution_count": 7,
   "metadata": {},
   "outputs": [
    {
     "name": "stdout",
     "output_type": "stream",
     "text": [
      "Not setting metadata\n",
      "1707 matching events found\n",
      "No baseline correction applied\n",
      "0 projection items activated\n",
      "Using matplotlib as 2D backend.\n",
      "    Using multitaper spectrum estimation with 7 DPSS windows\n",
      "Not setting metadata\n",
      "1707 matching events found\n",
      "No baseline correction applied\n",
      "0 projection items activated\n",
      "Not setting metadata\n",
      "1707 matching events found\n",
      "No baseline correction applied\n",
      "0 projection items activated\n"
     ]
    },
    {
     "data": {
      "text/plain": [
       "[<Figure size 700x600 with 6 Axes>, <Figure size 700x600 with 6 Axes>]"
      ]
     },
     "execution_count": 7,
     "metadata": {},
     "output_type": "execute_result"
    }
   ],
   "source": [
    "#%matplotlib qt\n",
    "\n",
    "# Visualise ICA components\n",
    "montage = mne.channels.make_standard_montage(\"standard_1005\")\n",
    "ep_avg_ref.set_montage(montage)\n",
    "\n",
    "ica.plot_sources(ep_avg_ref) # plot the raw signal \n",
    "\n",
    "#scalp field topographies \n",
    "ica.plot_components() # plot a Topomap \n",
    "ica.plot_properties(ep_avg_ref, picks=[8,9], log_scale=False)\n",
    "# plot specific components \n"
   ]
  },
  {
   "cell_type": "markdown",
   "metadata": {},
   "source": [
    "For the subject 7, we found the two components 8 and 9. "
   ]
  },
  {
   "cell_type": "code",
   "execution_count": 8,
   "metadata": {},
   "outputs": [
    {
     "name": "stdout",
     "output_type": "stream",
     "text": [
      "Writing ICA solution to C:\\Users\\Mabel Ife\\OneDrive - Danmarks Tekniske Universitet\\Dokumenter\\Master in AI\\Final Thesis\\Data\\Ica_files\\sub-007-ica.fif...\n"
     ]
    },
    {
     "data": {
      "text/html": [
       "<table class=\"table table-hover table-striped table-sm table-responsive small\">\n",
       "    <tr>\n",
       "        <th>Method</th>\n",
       "        <td>fastica</td>\n",
       "    </tr>\n",
       "    <tr>\n",
       "        <th>Fit parameters</th>\n",
       "        <td>algorithm=parallel<br />fun=logcosh<br />fun_args=None<br />max_iter=1000<br /></td>\n",
       "    </tr>\n",
       "    <tr>\n",
       "        <th>Fit</th>\n",
       "        <td>56 iterations on epochs (2184960 samples)</td>\n",
       "    </tr>\n",
       "    \n",
       "    <tr>\n",
       "        <th>ICA components</th>\n",
       "        <td>30</td>\n",
       "    </tr>\n",
       "    <tr>\n",
       "        <th>Available PCA components</th>\n",
       "        <td>63</td>\n",
       "    </tr>\n",
       "    <tr>\n",
       "        <th>Channel types</th>\n",
       "        <td>eeg</td>\n",
       "    </tr>\n",
       "    <tr>\n",
       "        <th>ICA components marked for exclusion</th>\n",
       "        <td>&mdash;</td>\n",
       "    </tr>\n",
       "    \n",
       "</table>"
      ],
      "text/plain": [
       "<ICA | epochs decomposition, method: fastica (fit in 56 iterations on 2184960 samples), 30 ICA components (63 PCA components available), channel types: eeg, no sources marked for exclusion>"
      ]
     },
     "execution_count": 8,
     "metadata": {},
     "output_type": "execute_result"
    }
   ],
   "source": [
    "# Participant ID code\n",
    "p_id = 'sub-007'\n",
    "data_dir = 'C:/Users/Mabel Ife/OneDrive - Danmarks Tekniske Universitet/Dokumenter/Master in AI/Final Thesis/Data/Ica_files/'\n",
    "\n",
    "#ica_motor_comp.save(data_dir + p_id + '-ica.fif', \n",
    "#        overwrite=True)\n",
    "\n",
    "ica.save(data_dir + p_id + '-ica.fif', \n",
    "        overwrite=True)"
   ]
  },
  {
   "cell_type": "markdown",
   "metadata": {},
   "source": [
    "## ICA and Wavelet analysis "
   ]
  },
  {
   "cell_type": "code",
   "execution_count": 27,
   "metadata": {},
   "outputs": [],
   "source": [
    "import matplotlib.pyplot as plt\n",
    "import numpy as np\n",
    "import pandas as pd\n",
    "import seaborn as sns\n",
    "from matplotlib.colors import TwoSlopeNorm\n",
    "\n",
    "import mne\n",
    "from mne.datasets import eegbci\n",
    "from mne.io import concatenate_raws, read_raw_edf\n",
    "from mne.stats import permutation_cluster_1samp_test as pcluster_test\n",
    "from mne.time_frequency import tfr_multitaper, tfr_morlet"
   ]
  },
  {
   "cell_type": "code",
   "execution_count": null,
   "metadata": {},
   "outputs": [
    {
     "name": "stdout",
     "output_type": "stream",
     "text": [
      "Reading C:/Users/Mabel Ife/OneDrive - Danmarks Tekniske Universitet/Dokumenter/Master in AI/Final Thesis/Data/sub-007-ica.fif ...\n",
      "Now restoring ICA solution ...\n",
      "Ready.\n"
     ]
    }
   ],
   "source": [
    "# Restore ICA solution from fif file.\n",
    "\n",
    "p_id = 'sub-007' # Participant ID code\n",
    "data_dir = 'C:/Users/Mabel Ife/OneDrive - Danmarks Tekniske Universitet/Dokumenter/Master in AI/Final Thesis/Data/'\n",
    "components_from_ICA = mne.preprocessing.read_ica(data_dir + p_id + '-ica.fif', verbose=None)\n"
   ]
  },
  {
   "cell_type": "code",
   "execution_count": 21,
   "metadata": {},
   "outputs": [
    {
     "name": "stdout",
     "output_type": "stream",
     "text": [
      "Applying ICA to Epochs instance\n",
      "    Transforming to ICA space (30 components)\n",
      "    Zeroing out 0 ICA components\n",
      "    Projecting back using 63 PCA components\n"
     ]
    }
   ],
   "source": [
    "#apply the ICA decomposition (excluding the marked ICs) to the epochs\n",
    "epochs_postica = ica.apply(ep_avg_ref.copy())"
   ]
  },
  {
   "cell_type": "code",
   "execution_count": 24,
   "metadata": {},
   "outputs": [],
   "source": [
    "# Split epochs data into four conditions based on events\n",
    "\n",
    "\n",
    "condition_1_epochs = epochs_postica['41']\n",
    "#condition_2_epochs = epochs_postica['10']\n",
    "#condition_3_epochs = epochs_postica['20']\n",
    "#condition_4_epochs = epochs_postica['30']"
   ]
  },
  {
   "cell_type": "markdown",
   "metadata": {},
   "source": [
    "# Extract independent components\n",
    "components_1 = ica.get_sources(ep_avg_ref['41'])\n",
    "components_2 = ica.get_sources(ep_avg_ref['10'])\n",
    "components_3 = ica.get_sources(ep_avg_ref['20'])\n",
    "components_4 = ica.get_sources(ep_avg_ref['30'])\n",
    "\n"
   ]
  },
  {
   "cell_type": "code",
   "execution_count": 20,
   "metadata": {},
   "outputs": [
    {
     "ename": "TypeError",
     "evalue": "inst must be Epochs or Evoked",
     "output_type": "error",
     "traceback": [
      "\u001b[1;31m---------------------------------------------------------------------------\u001b[0m",
      "\u001b[1;31mTypeError\u001b[0m                                 Traceback (most recent call last)",
      "Cell \u001b[1;32mIn[20], line 24\u001b[0m\n\u001b[0;32m     19\u001b[0m sfreq \u001b[38;5;241m=\u001b[39m \u001b[38;5;241m256\u001b[39m \u001b[38;5;66;03m# Sampling frequency\u001b[39;00m\n\u001b[0;32m     21\u001b[0m \u001b[38;5;66;03m#.morlet(freqs=freqs, n_cycles=n_cycles, sfreq=sfreq, zero_mean=False)\u001b[39;00m\n\u001b[1;32m---> 24\u001b[0m \u001b[43mmne\u001b[49m\u001b[38;5;241;43m.\u001b[39;49m\u001b[43mtime_frequency\u001b[49m\u001b[38;5;241;43m.\u001b[39;49m\u001b[43mtfr_morlet\u001b[49m\u001b[43m(\u001b[49m\u001b[43mica\u001b[49m\u001b[43m,\u001b[49m\u001b[43m \u001b[49m\u001b[43mfreqs\u001b[49m\u001b[43m,\u001b[49m\u001b[43m \u001b[49m\u001b[43mn_cycles\u001b[49m\u001b[43m,\u001b[49m\u001b[43m \u001b[49m\u001b[43muse_fft\u001b[49m\u001b[38;5;241;43m=\u001b[39;49m\u001b[38;5;28;43;01mFalse\u001b[39;49;00m\u001b[43m,\u001b[49m\u001b[43m \u001b[49m\u001b[43mreturn_itc\u001b[49m\u001b[38;5;241;43m=\u001b[39;49m\u001b[38;5;28;43;01mFalse\u001b[39;49;00m\u001b[43m,\u001b[49m\u001b[43m \u001b[49m\u001b[43mdecim\u001b[49m\u001b[38;5;241;43m=\u001b[39;49m\u001b[38;5;241;43m1\u001b[39;49m\u001b[43m,\u001b[49m\u001b[43m \u001b[49m\u001b[43mn_jobs\u001b[49m\u001b[38;5;241;43m=\u001b[39;49m\u001b[38;5;28;43;01mNone\u001b[39;49;00m\u001b[43m,\u001b[49m\u001b[43m \u001b[49m\u001b[43mzero_mean\u001b[49m\u001b[38;5;241;43m=\u001b[39;49m\u001b[38;5;28;43;01mTrue\u001b[39;49;00m\u001b[43m,\u001b[49m\u001b[43m \u001b[49m\u001b[43maverage\u001b[49m\u001b[38;5;241;43m=\u001b[39;49m\u001b[38;5;28;43;01mFalse\u001b[39;49;00m\u001b[43m,\u001b[49m\u001b[43m \u001b[49m\u001b[43moutput\u001b[49m\u001b[38;5;241;43m=\u001b[39;49m\u001b[38;5;124;43m'\u001b[39;49m\u001b[38;5;124;43mpower\u001b[39;49m\u001b[38;5;124;43m'\u001b[39;49m\u001b[43m,\u001b[49m\u001b[43m \u001b[49m\u001b[43mverbose\u001b[49m\u001b[38;5;241;43m=\u001b[39;49m\u001b[38;5;28;43;01mNone\u001b[39;49;00m\u001b[43m)\u001b[49m\n\u001b[0;32m     27\u001b[0m \u001b[38;5;66;03m# Perform time-frequency analysis with Morlet wavelet\u001b[39;00m\n\u001b[0;32m     28\u001b[0m \u001b[38;5;66;03m#power = morlet(freqs=freqs, n_cycles=n_cycles, sfreq=sfreq, zero_mean=False, sigma=None)\u001b[39;00m\n\u001b[0;32m     29\u001b[0m \n\u001b[0;32m     30\u001b[0m \u001b[38;5;66;03m# Plot time-frequency representation\u001b[39;00m\n\u001b[0;32m     31\u001b[0m \u001b[38;5;66;03m#power_1.plot_joint(timefreqs=(tmin, tmax))\u001b[39;00m\n",
      "File \u001b[1;32m<decorator-gen-243>:12\u001b[0m, in \u001b[0;36mtfr_morlet\u001b[1;34m(inst, freqs, n_cycles, use_fft, return_itc, decim, n_jobs, picks, zero_mean, average, output, verbose)\u001b[0m\n",
      "File \u001b[1;32mc:\\Users\\Mabel Ife\\AppData\\Local\\Programs\\Python\\Python311\\Lib\\site-packages\\mne\\time_frequency\\tfr.py:969\u001b[0m, in \u001b[0;36mtfr_morlet\u001b[1;34m(inst, freqs, n_cycles, use_fft, return_itc, decim, n_jobs, picks, zero_mean, average, output, verbose)\u001b[0m\n\u001b[0;32m    899\u001b[0m \u001b[38;5;250m\u001b[39m\u001b[38;5;124;03m\"\"\"Compute Time-Frequency Representation (TFR) using Morlet wavelets.\u001b[39;00m\n\u001b[0;32m    900\u001b[0m \n\u001b[0;32m    901\u001b[0m \u001b[38;5;124;03mSame computation as `~mne.time_frequency.tfr_array_morlet`, but\u001b[39;00m\n\u001b[1;32m   (...)\u001b[0m\n\u001b[0;32m    960\u001b[0m \u001b[38;5;124;03m.. footbibliography::\u001b[39;00m\n\u001b[0;32m    961\u001b[0m \u001b[38;5;124;03m\"\"\"\u001b[39;00m\n\u001b[0;32m    962\u001b[0m tfr_params \u001b[38;5;241m=\u001b[39m \u001b[38;5;28mdict\u001b[39m(\n\u001b[0;32m    963\u001b[0m     n_cycles\u001b[38;5;241m=\u001b[39mn_cycles,\n\u001b[0;32m    964\u001b[0m     n_jobs\u001b[38;5;241m=\u001b[39mn_jobs,\n\u001b[1;32m   (...)\u001b[0m\n\u001b[0;32m    967\u001b[0m     output\u001b[38;5;241m=\u001b[39moutput,\n\u001b[0;32m    968\u001b[0m )\n\u001b[1;32m--> 969\u001b[0m \u001b[38;5;28;01mreturn\u001b[39;00m \u001b[43m_tfr_aux\u001b[49m\u001b[43m(\u001b[49m\n\u001b[0;32m    970\u001b[0m \u001b[43m    \u001b[49m\u001b[38;5;124;43m\"\u001b[39;49m\u001b[38;5;124;43mmorlet\u001b[39;49m\u001b[38;5;124;43m\"\u001b[39;49m\u001b[43m,\u001b[49m\u001b[43m \u001b[49m\u001b[43minst\u001b[49m\u001b[43m,\u001b[49m\u001b[43m \u001b[49m\u001b[43mfreqs\u001b[49m\u001b[43m,\u001b[49m\u001b[43m \u001b[49m\u001b[43mdecim\u001b[49m\u001b[43m,\u001b[49m\u001b[43m \u001b[49m\u001b[43mreturn_itc\u001b[49m\u001b[43m,\u001b[49m\u001b[43m \u001b[49m\u001b[43mpicks\u001b[49m\u001b[43m,\u001b[49m\u001b[43m \u001b[49m\u001b[43maverage\u001b[49m\u001b[43m,\u001b[49m\u001b[43m \u001b[49m\u001b[38;5;241;43m*\u001b[39;49m\u001b[38;5;241;43m*\u001b[39;49m\u001b[43mtfr_params\u001b[49m\n\u001b[0;32m    971\u001b[0m \u001b[43m\u001b[49m\u001b[43m)\u001b[49m\n",
      "File \u001b[1;32mc:\\Users\\Mabel Ife\\AppData\\Local\\Programs\\Python\\Python311\\Lib\\site-packages\\mne\\time_frequency\\tfr.py:811\u001b[0m, in \u001b[0;36m_tfr_aux\u001b[1;34m(method, inst, freqs, decim, return_itc, picks, average, output, **tfr_params)\u001b[0m\n\u001b[0;32m    809\u001b[0m \u001b[38;5;250m\u001b[39m\u001b[38;5;124;03m\"\"\"Help reduce redundancy between tfr_morlet and tfr_multitaper.\"\"\"\u001b[39;00m\n\u001b[0;32m    810\u001b[0m decim \u001b[38;5;241m=\u001b[39m _check_decim(decim)\n\u001b[1;32m--> 811\u001b[0m data \u001b[38;5;241m=\u001b[39m \u001b[43m_get_data\u001b[49m\u001b[43m(\u001b[49m\u001b[43minst\u001b[49m\u001b[43m,\u001b[49m\u001b[43m \u001b[49m\u001b[43mreturn_itc\u001b[49m\u001b[43m)\u001b[49m\n\u001b[0;32m    812\u001b[0m info \u001b[38;5;241m=\u001b[39m inst\u001b[38;5;241m.\u001b[39minfo\u001b[38;5;241m.\u001b[39mcopy()  \u001b[38;5;66;03m# make a copy as sfreq can be altered\u001b[39;00m\n\u001b[0;32m    814\u001b[0m info, data \u001b[38;5;241m=\u001b[39m _prepare_picks(info, data, picks, axis\u001b[38;5;241m=\u001b[39m\u001b[38;5;241m1\u001b[39m)\n",
      "File \u001b[1;32mc:\\Users\\Mabel Ife\\AppData\\Local\\Programs\\Python\\Python311\\Lib\\site-packages\\mne\\time_frequency\\tfr.py:2933\u001b[0m, in \u001b[0;36m_get_data\u001b[1;34m(inst, return_itc)\u001b[0m\n\u001b[0;32m   2930\u001b[0m \u001b[38;5;28;01mfrom\u001b[39;00m \u001b[38;5;21;01m.\u001b[39;00m\u001b[38;5;21;01m.\u001b[39;00m\u001b[38;5;21;01mevoked\u001b[39;00m \u001b[38;5;28;01mimport\u001b[39;00m Evoked\n\u001b[0;32m   2932\u001b[0m \u001b[38;5;28;01mif\u001b[39;00m \u001b[38;5;129;01mnot\u001b[39;00m \u001b[38;5;28misinstance\u001b[39m(inst, (BaseEpochs, Evoked)):\n\u001b[1;32m-> 2933\u001b[0m     \u001b[38;5;28;01mraise\u001b[39;00m \u001b[38;5;167;01mTypeError\u001b[39;00m(\u001b[38;5;124m\"\u001b[39m\u001b[38;5;124minst must be Epochs or Evoked\u001b[39m\u001b[38;5;124m\"\u001b[39m)\n\u001b[0;32m   2934\u001b[0m \u001b[38;5;28;01mif\u001b[39;00m \u001b[38;5;28misinstance\u001b[39m(inst, BaseEpochs):\n\u001b[0;32m   2935\u001b[0m     data \u001b[38;5;241m=\u001b[39m inst\u001b[38;5;241m.\u001b[39mget_data(copy\u001b[38;5;241m=\u001b[39m\u001b[38;5;28;01mFalse\u001b[39;00m)\n",
      "\u001b[1;31mTypeError\u001b[0m: inst must be Epochs or Evoked"
     ]
    }
   ],
   "source": [
    "# waveanalysis\n",
    "\n",
    "#del condition_1_epochs,condition_2_epochs,condition_3_epochs,condition_4_epochs, components_1,components_2,components_3, ica,ica_motor_comp\n",
    "#del ICA\n",
    "\n",
    "\n",
    "from mne.time_frequency import morlet, fwhm\n",
    "\n",
    "# Define parameters\n",
    "freqs = np.arange(2, 31) \n",
    "#freqs = 10 # Frequencies of interest from 1 to 30 Hz\n",
    "n_cycles = 2 + 0.125 * freqs # Number of cycles \n",
    "\n",
    "\n",
    "\n",
    "# Define time window\n",
    "tmin = -1  # Start time\n",
    "tmax = 2   # End time\n",
    "sfreq = 256 # Sampling frequency\n",
    "\n",
    "#.morlet(freqs=freqs, n_cycles=n_cycles, sfreq=sfreq, zero_mean=False)\n",
    "\n",
    "\n",
    "mne.time_frequency.tfr_morlet(ica, freqs, n_cycles, use_fft=False, return_itc=False, decim=1, n_jobs=None, zero_mean=True, average=False, output='power', verbose=None)\n",
    "\n",
    "\n",
    "# Perform time-frequency analysis with Morlet wavelet\n",
    "#power = morlet(freqs=freqs, n_cycles=n_cycles, sfreq=sfreq, zero_mean=False, sigma=None)\n",
    "\n",
    "# Plot time-frequency representation\n",
    "#power_1.plot_joint(timefreqs=(tmin, tmax))"
   ]
  },
  {
   "cell_type": "code",
   "execution_count": 28,
   "metadata": {},
   "outputs": [
    {
     "ename": "MemoryError",
     "evalue": "Unable to allocate 9.41 GiB for an array with shape (63, 540, 29, 1280) and data type float64",
     "output_type": "error",
     "traceback": [
      "\u001b[1;31m---------------------------------------------------------------------------\u001b[0m",
      "\u001b[1;31mMemoryError\u001b[0m                               Traceback (most recent call last)",
      "Cell \u001b[1;32mIn[28], line 2\u001b[0m\n\u001b[0;32m      1\u001b[0m \u001b[38;5;66;03m#del ep_avg_ref, epochs_rs\u001b[39;00m\n\u001b[1;32m----> 2\u001b[0m p \u001b[38;5;241m=\u001b[39m \u001b[43mtfr_morlet\u001b[49m\u001b[43m(\u001b[49m\u001b[43mcondition_1_epochs\u001b[49m\u001b[43m,\u001b[49m\u001b[43m \u001b[49m\u001b[43mfreqs\u001b[49m\u001b[43m,\u001b[49m\u001b[43m \u001b[49m\u001b[43mn_cycles\u001b[49m\u001b[43m,\u001b[49m\u001b[43m \u001b[49m\u001b[43muse_fft\u001b[49m\u001b[38;5;241;43m=\u001b[39;49m\u001b[38;5;28;43;01mFalse\u001b[39;49;00m\u001b[43m,\u001b[49m\u001b[43m \u001b[49m\u001b[43mreturn_itc\u001b[49m\u001b[38;5;241;43m=\u001b[39;49m\u001b[38;5;28;43;01mFalse\u001b[39;49;00m\u001b[43m,\u001b[49m\u001b[43m \u001b[49m\u001b[43mdecim\u001b[49m\u001b[38;5;241;43m=\u001b[39;49m\u001b[38;5;241;43m1\u001b[39;49m\u001b[43m,\u001b[49m\u001b[43m \u001b[49m\u001b[43mn_jobs\u001b[49m\u001b[38;5;241;43m=\u001b[39;49m\u001b[38;5;28;43;01mNone\u001b[39;49;00m\u001b[43m,\u001b[49m\u001b[43m \u001b[49m\u001b[43mzero_mean\u001b[49m\u001b[38;5;241;43m=\u001b[39;49m\u001b[38;5;28;43;01mTrue\u001b[39;49;00m\u001b[43m,\u001b[49m\u001b[43m \u001b[49m\u001b[43maverage\u001b[49m\u001b[38;5;241;43m=\u001b[39;49m\u001b[38;5;28;43;01mFalse\u001b[39;49;00m\u001b[43m,\u001b[49m\u001b[43m \u001b[49m\u001b[43moutput\u001b[49m\u001b[38;5;241;43m=\u001b[39;49m\u001b[38;5;124;43m'\u001b[39;49m\u001b[38;5;124;43mpower\u001b[39;49m\u001b[38;5;124;43m'\u001b[39;49m\u001b[43m,\u001b[49m\u001b[43m \u001b[49m\u001b[43mverbose\u001b[49m\u001b[38;5;241;43m=\u001b[39;49m\u001b[38;5;28;43;01mNone\u001b[39;49;00m\u001b[43m)\u001b[49m\n",
      "File \u001b[1;32m<decorator-gen-243>:12\u001b[0m, in \u001b[0;36mtfr_morlet\u001b[1;34m(inst, freqs, n_cycles, use_fft, return_itc, decim, n_jobs, picks, zero_mean, average, output, verbose)\u001b[0m\n",
      "File \u001b[1;32mc:\\Users\\Mabel Ife\\AppData\\Local\\Programs\\Python\\Python311\\Lib\\site-packages\\mne\\time_frequency\\tfr.py:969\u001b[0m, in \u001b[0;36mtfr_morlet\u001b[1;34m(inst, freqs, n_cycles, use_fft, return_itc, decim, n_jobs, picks, zero_mean, average, output, verbose)\u001b[0m\n\u001b[0;32m    899\u001b[0m \u001b[38;5;250m\u001b[39m\u001b[38;5;124;03m\"\"\"Compute Time-Frequency Representation (TFR) using Morlet wavelets.\u001b[39;00m\n\u001b[0;32m    900\u001b[0m \n\u001b[0;32m    901\u001b[0m \u001b[38;5;124;03mSame computation as `~mne.time_frequency.tfr_array_morlet`, but\u001b[39;00m\n\u001b[1;32m   (...)\u001b[0m\n\u001b[0;32m    960\u001b[0m \u001b[38;5;124;03m.. footbibliography::\u001b[39;00m\n\u001b[0;32m    961\u001b[0m \u001b[38;5;124;03m\"\"\"\u001b[39;00m\n\u001b[0;32m    962\u001b[0m tfr_params \u001b[38;5;241m=\u001b[39m \u001b[38;5;28mdict\u001b[39m(\n\u001b[0;32m    963\u001b[0m     n_cycles\u001b[38;5;241m=\u001b[39mn_cycles,\n\u001b[0;32m    964\u001b[0m     n_jobs\u001b[38;5;241m=\u001b[39mn_jobs,\n\u001b[1;32m   (...)\u001b[0m\n\u001b[0;32m    967\u001b[0m     output\u001b[38;5;241m=\u001b[39moutput,\n\u001b[0;32m    968\u001b[0m )\n\u001b[1;32m--> 969\u001b[0m \u001b[38;5;28;01mreturn\u001b[39;00m \u001b[43m_tfr_aux\u001b[49m\u001b[43m(\u001b[49m\n\u001b[0;32m    970\u001b[0m \u001b[43m    \u001b[49m\u001b[38;5;124;43m\"\u001b[39;49m\u001b[38;5;124;43mmorlet\u001b[39;49m\u001b[38;5;124;43m\"\u001b[39;49m\u001b[43m,\u001b[49m\u001b[43m \u001b[49m\u001b[43minst\u001b[49m\u001b[43m,\u001b[49m\u001b[43m \u001b[49m\u001b[43mfreqs\u001b[49m\u001b[43m,\u001b[49m\u001b[43m \u001b[49m\u001b[43mdecim\u001b[49m\u001b[43m,\u001b[49m\u001b[43m \u001b[49m\u001b[43mreturn_itc\u001b[49m\u001b[43m,\u001b[49m\u001b[43m \u001b[49m\u001b[43mpicks\u001b[49m\u001b[43m,\u001b[49m\u001b[43m \u001b[49m\u001b[43maverage\u001b[49m\u001b[43m,\u001b[49m\u001b[43m \u001b[49m\u001b[38;5;241;43m*\u001b[39;49m\u001b[38;5;241;43m*\u001b[39;49m\u001b[43mtfr_params\u001b[49m\n\u001b[0;32m    971\u001b[0m \u001b[43m\u001b[49m\u001b[43m)\u001b[49m\n",
      "File \u001b[1;32mc:\\Users\\Mabel Ife\\AppData\\Local\\Programs\\Python\\Python311\\Lib\\site-packages\\mne\\time_frequency\\tfr.py:831\u001b[0m, in \u001b[0;36m_tfr_aux\u001b[1;34m(***failed resolving arguments***)\u001b[0m\n\u001b[0;32m    826\u001b[0m     \u001b[38;5;28;01mif\u001b[39;00m return_itc:\n\u001b[0;32m    827\u001b[0m         \u001b[38;5;28;01mraise\u001b[39;00m \u001b[38;5;167;01mValueError\u001b[39;00m(\n\u001b[0;32m    828\u001b[0m             \u001b[38;5;124m\"\u001b[39m\u001b[38;5;124mInter-trial coherence is not supported\u001b[39m\u001b[38;5;124m\"\u001b[39m \u001b[38;5;124m\"\u001b[39m\u001b[38;5;124m with average=False\u001b[39m\u001b[38;5;124m\"\u001b[39m\n\u001b[0;32m    829\u001b[0m         )\n\u001b[1;32m--> 831\u001b[0m out \u001b[38;5;241m=\u001b[39m \u001b[43m_compute_tfr\u001b[49m\u001b[43m(\u001b[49m\n\u001b[0;32m    832\u001b[0m \u001b[43m    \u001b[49m\u001b[43mdata\u001b[49m\u001b[43m,\u001b[49m\n\u001b[0;32m    833\u001b[0m \u001b[43m    \u001b[49m\u001b[43mfreqs\u001b[49m\u001b[43m,\u001b[49m\n\u001b[0;32m    834\u001b[0m \u001b[43m    \u001b[49m\u001b[43minfo\u001b[49m\u001b[43m[\u001b[49m\u001b[38;5;124;43m\"\u001b[39;49m\u001b[38;5;124;43msfreq\u001b[39;49m\u001b[38;5;124;43m\"\u001b[39;49m\u001b[43m]\u001b[49m\u001b[43m,\u001b[49m\n\u001b[0;32m    835\u001b[0m \u001b[43m    \u001b[49m\u001b[43mmethod\u001b[49m\u001b[38;5;241;43m=\u001b[39;49m\u001b[43mmethod\u001b[49m\u001b[43m,\u001b[49m\n\u001b[0;32m    836\u001b[0m \u001b[43m    \u001b[49m\u001b[43moutput\u001b[49m\u001b[38;5;241;43m=\u001b[39;49m\u001b[43moutput\u001b[49m\u001b[43m,\u001b[49m\n\u001b[0;32m    837\u001b[0m \u001b[43m    \u001b[49m\u001b[43mdecim\u001b[49m\u001b[38;5;241;43m=\u001b[39;49m\u001b[43mdecim\u001b[49m\u001b[43m,\u001b[49m\n\u001b[0;32m    838\u001b[0m \u001b[43m    \u001b[49m\u001b[38;5;241;43m*\u001b[39;49m\u001b[38;5;241;43m*\u001b[39;49m\u001b[43mtfr_params\u001b[49m\u001b[43m,\u001b[49m\n\u001b[0;32m    839\u001b[0m \u001b[43m\u001b[49m\u001b[43m)\u001b[49m\n\u001b[0;32m    840\u001b[0m times \u001b[38;5;241m=\u001b[39m inst\u001b[38;5;241m.\u001b[39mtimes[decim]\u001b[38;5;241m.\u001b[39mcopy()\n\u001b[0;32m    841\u001b[0m \u001b[38;5;28;01mwith\u001b[39;00m info\u001b[38;5;241m.\u001b[39m_unlock():\n",
      "File \u001b[1;32mc:\\Users\\Mabel Ife\\AppData\\Local\\Programs\\Python\\Python311\\Lib\\site-packages\\mne\\time_frequency\\tfr.py:562\u001b[0m, in \u001b[0;36m_compute_tfr\u001b[1;34m(epoch_data, freqs, sfreq, method, n_cycles, zero_mean, time_bandwidth, use_fft, decim, output, n_jobs, verbose)\u001b[0m\n\u001b[0;32m    560\u001b[0m     out \u001b[38;5;241m=\u001b[39m np\u001b[38;5;241m.\u001b[39mempty((n_chans, n_tapers, n_epochs, n_freqs, n_times), dtype)\n\u001b[0;32m    561\u001b[0m \u001b[38;5;28;01melse\u001b[39;00m:\n\u001b[1;32m--> 562\u001b[0m     out \u001b[38;5;241m=\u001b[39m \u001b[43mnp\u001b[49m\u001b[38;5;241;43m.\u001b[39;49m\u001b[43mempty\u001b[49m\u001b[43m(\u001b[49m\u001b[43m(\u001b[49m\u001b[43mn_chans\u001b[49m\u001b[43m,\u001b[49m\u001b[43m \u001b[49m\u001b[43mn_epochs\u001b[49m\u001b[43m,\u001b[49m\u001b[43m \u001b[49m\u001b[43mn_freqs\u001b[49m\u001b[43m,\u001b[49m\u001b[43m \u001b[49m\u001b[43mn_times\u001b[49m\u001b[43m)\u001b[49m\u001b[43m,\u001b[49m\u001b[43m \u001b[49m\u001b[43mdtype\u001b[49m\u001b[43m)\u001b[49m\n\u001b[0;32m    564\u001b[0m \u001b[38;5;66;03m# Parallel computation\u001b[39;00m\n\u001b[0;32m    565\u001b[0m all_Ws \u001b[38;5;241m=\u001b[39m \u001b[38;5;28msum\u001b[39m([\u001b[38;5;28mlist\u001b[39m(W) \u001b[38;5;28;01mfor\u001b[39;00m W \u001b[38;5;129;01min\u001b[39;00m Ws], \u001b[38;5;28mlist\u001b[39m())\n",
      "\u001b[1;31mMemoryError\u001b[0m: Unable to allocate 9.41 GiB for an array with shape (63, 540, 29, 1280) and data type float64"
     ]
    }
   ],
   "source": [
    "#del ep_avg_ref, epochs_rs\n",
    "p = tfr_morlet(condition_1_epochs, freqs, n_cycles, use_fft=False, return_itc=False, decim=1, n_jobs=None, zero_mean=True, average=False, output='power', verbose=None)"
   ]
  },
  {
   "cell_type": "code",
   "execution_count": null,
   "metadata": {},
   "outputs": [],
   "source": []
  },
  {
   "cell_type": "code",
   "execution_count": 11,
   "metadata": {},
   "outputs": [
    {
     "ename": "TypeError",
     "evalue": "morlet() got multiple values for argument 'sfreq'",
     "output_type": "error",
     "traceback": [
      "\u001b[1;31m---------------------------------------------------------------------------\u001b[0m",
      "\u001b[1;31mTypeError\u001b[0m                                 Traceback (most recent call last)",
      "Cell \u001b[1;32mIn[11], line 2\u001b[0m\n\u001b[0;32m      1\u001b[0m \u001b[38;5;66;03m# Perform time-frequency analysis with Morlet wavelet\u001b[39;00m\n\u001b[1;32m----> 2\u001b[0m power2 \u001b[38;5;241m=\u001b[39m \u001b[43mmorlet\u001b[49m\u001b[43m(\u001b[49m\u001b[43mica\u001b[49m\u001b[43m,\u001b[49m\u001b[43m \u001b[49m\u001b[43mfreqs\u001b[49m\u001b[38;5;241;43m=\u001b[39;49m\u001b[43mfreqs\u001b[49m\u001b[43m,\u001b[49m\u001b[43m \u001b[49m\u001b[43mn_cycles\u001b[49m\u001b[38;5;241;43m=\u001b[39;49m\u001b[43mn_cycles\u001b[49m\u001b[43m,\u001b[49m\u001b[43m \u001b[49m\u001b[43msfreq\u001b[49m\u001b[38;5;241;43m=\u001b[39;49m\u001b[43msfreq\u001b[49m\u001b[43m,\u001b[49m\u001b[43m \u001b[49m\u001b[43mzero_mean\u001b[49m\u001b[38;5;241;43m=\u001b[39;49m\u001b[38;5;28;43;01mFalse\u001b[39;49;00m\u001b[43m,\u001b[49m\u001b[43m \u001b[49m\u001b[43msigma\u001b[49m\u001b[38;5;241;43m=\u001b[39;49m\u001b[38;5;28;43;01mNone\u001b[39;49;00m\u001b[43m)\u001b[49m\n",
      "\u001b[1;31mTypeError\u001b[0m: morlet() got multiple values for argument 'sfreq'"
     ]
    }
   ],
   "source": [
    "# Perform time-frequency analysis with Morlet wavelet\n",
    "power2 = morlet(ica, freqs=freqs, n_cycles=n_cycles, sfreq=sfreq, zero_mean=False, sigma=None)"
   ]
  },
  {
   "cell_type": "code",
   "execution_count": 17,
   "metadata": {},
   "outputs": [],
   "source": [
    "del ep_ds,ep_interp_mne,epochs_postica,"
   ]
  }
 ],
 "metadata": {
  "kernelspec": {
   "display_name": "Python 3",
   "language": "python",
   "name": "python3"
  },
  "language_info": {
   "codemirror_mode": {
    "name": "ipython",
    "version": 3
   },
   "file_extension": ".py",
   "mimetype": "text/x-python",
   "name": "python",
   "nbconvert_exporter": "python",
   "pygments_lexer": "ipython3",
   "version": "3.11.1"
  }
 },
 "nbformat": 4,
 "nbformat_minor": 2
}
